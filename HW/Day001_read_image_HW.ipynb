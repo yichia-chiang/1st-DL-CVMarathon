{
 "cells": [
  {
   "cell_type": "markdown",
   "metadata": {},
   "source": [
    "# 作業\n",
    "\n",
    "思考一下我們前面有提到圖片是矩陣，但維度可能會不一樣\n",
    "例如灰階圖只有兩個維度，RGB 彩圖則有 3 個維度\n",
    "\n",
    "假如今天我們把 RGB 3 個維度拆開來看會有甚麼不同的效果呢？"
   ]
  },
  {
   "cell_type": "code",
   "execution_count": 4,
   "metadata": {},
   "outputs": [],
   "source": [
    "import cv2\n",
    "import numpy as np;\n",
    "\n",
    "img_path = 'img/lena.png'\n",
    "\n",
    "# 以彩色圖片的方式載入\n",
    "img = cv2.imread(img_path, cv2.IMREAD_COLOR)\n",
    "\n",
    "#建立以圖片為主之零矩陣\n",
    "zeros = np.zeros(img.shape[:2],dtype=\"uint8\");\n",
    "#分離b,g,r\n",
    "b,g,r = cv2.split(img)\n",
    "#重建3維度\n",
    "Blue  = cv2.merge([b,zeros,zeros])\n",
    "Green = cv2.merge([zeros,g,zeros])\n",
    "Red   = cv2.merge([zeros,zeros,r])\n",
    "\n",
    "# 為了要不斷顯示圖片，所以使用一個迴圈\n",
    "while True:\n",
    "    # 顯示3維度彩圖\n",
    "    cv2.imshow('b', Blue)\n",
    "    cv2.imshow('g', Green)\n",
    "    cv2.imshow('r', Red)\n",
    "\n",
    "    cv2.moveWindow('b',0,0)\n",
    "    cv2.moveWindow('g',500,0)\n",
    "    cv2.moveWindow('r',1000,0)\n",
    "    \n",
    "\n",
    "    # 直到按下 ESC 鍵才會自動關閉視窗結束程式\n",
    "    k = cv2.waitKey(0)\n",
    "    if k == 27:\n",
    "        cv2.destroyAllWindows()\n",
    "        break"
   ]
  }
 ],
 "metadata": {
  "kernelspec": {
   "display_name": "Python 3",
   "language": "python",
   "name": "python3"
  },
  "language_info": {
   "codemirror_mode": {
    "name": "ipython",
    "version": 3
   },
   "file_extension": ".py",
   "mimetype": "text/x-python",
   "name": "python",
   "nbconvert_exporter": "python",
   "pygments_lexer": "ipython3",
   "version": "3.7.4"
  }
 },
 "nbformat": 4,
 "nbformat_minor": 2
}
